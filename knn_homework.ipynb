{
  "nbformat": 4,
  "nbformat_minor": 0,
  "metadata": {
    "kernelspec": {
      "display_name": "Python 3",
      "language": "python",
      "name": "python3"
    },
    "language_info": {
      "mimetype": "text/x-python",
      "name": "python",
      "pygments_lexer": "ipython3",
      "codemirror_mode": {
        "name": "ipython",
        "version": 3
      },
      "version": "3.8.3",
      "nbconvert_exporter": "python",
      "file_extension": ".py"
    },
    "application/vnd.databricks.v1+notebook": {
      "notebookName": "knn_homework (1)",
      "dashboards": [],
      "language": "python",
      "widgets": {},
      "notebookOrigID": 1392837218500458
    },
    "colab": {
      "name": "knn_homework.ipynb",
      "provenance": [],
      "collapsed_sections": []
    }
  },
  "cells": [
    {
      "cell_type": "code",
      "metadata": {
        "application/vnd.databricks.v1+cell": {
          "title": "",
          "showTitle": false,
          "inputWidgets": {},
          "nuid": "87841a17-3497-41a9-b2f0-84c6ed782420"
        },
        "id": "ORZoUgmfMp1W"
      },
      "source": [
        "import databricks.koalas as ks\n",
        "import matplotlib.pyplot as plt\n",
        "import numpy as np\n",
        "from databricks.koalas.config import set_option"
      ],
      "execution_count": null,
      "outputs": []
    },
    {
      "cell_type": "code",
      "metadata": {
        "id": "VhRBhOQ2MxNV"
      },
      "source": [
        "set_option(\"compute.ops_on_diff_frames\", True)"
      ],
      "execution_count": null,
      "outputs": []
    },
    {
      "cell_type": "code",
      "metadata": {
        "application/vnd.databricks.v1+cell": {
          "title": "",
          "showTitle": false,
          "inputWidgets": {},
          "nuid": "464f78ac-4ceb-4d29-8821-d620ab881e76"
        },
        "id": "7sfN1sh_Mp1b"
      },
      "source": [
        "# Генерация случайной выборки точек на координатной плоскости 100x100: 70% - участвуют, из них 95% - маркируются по сумме координат, а оставльные 5% - рандомно\n",
        "xs = list(np.arange(0, 100)) * 100\n",
        "ys = [item for sublist in list(map(lambda x: [x] * 100, np.arange(0, 100))) for item in sublist]\n",
        "points = list(zip(xs, ys))\n",
        "np.random.shuffle(points)\n",
        "involved_points = points[:int(len(points) * 0.7)]\n",
        "involved_points_95 = involved_points[:int(len(involved_points) * 0.95)]\n",
        "involved_points_5 = involved_points[-int(len(involved_points) * 0.05):]"
      ],
      "execution_count": null,
      "outputs": []
    },
    {
      "cell_type": "code",
      "metadata": {
        "application/vnd.databricks.v1+cell": {
          "title": "",
          "showTitle": false,
          "inputWidgets": {},
          "nuid": "f70dd770-b2e5-4532-a06a-8e1bdcee2d77"
        },
        "id": "GkLbUUQQMp1c"
      },
      "source": [
        "def label_points(fst, snd):\n",
        "  if fst + snd < 30:\n",
        "    return 'A'\n",
        "  elif fst + snd < 65:\n",
        "    return 'B'\n",
        "  else:\n",
        "    return 'C'\n",
        "  \n",
        "def random_label_points():\n",
        "  rand = np.random.random()\n",
        "  if rand < 1 / 3:\n",
        "    return 'A'\n",
        "  elif rand < 2 / 3:\n",
        "    return 'B'\n",
        "  else:\n",
        "    return 'C'\n",
        "\n",
        "# Маркировка данных\n",
        "labeled_involved_points_95 = [(first, second, label_points(first, second)) for (first, second) in involved_points_95]\n",
        "labeled_involved_points_5 = [(first, second, random_label_points()) for (first, second) in involved_points_5]\n",
        "all_points = labeled_involved_points_95 + labeled_involved_points_5\n",
        "knn_data = ks.DataFrame(all_points, columns=['x', 'y', 'attr'])\n",
        "knn_data.cache()\n",
        "knn_data.head()"
      ],
      "execution_count": null,
      "outputs": []
    },
    {
      "cell_type": "code",
      "metadata": {
        "application/vnd.databricks.v1+cell": {
          "title": "",
          "showTitle": false,
          "inputWidgets": {},
          "nuid": "74b6e994-e0f2-4827-8761-00c343a1ef04"
        },
        "id": "EynoszHPMp1d"
      },
      "source": [
        "# Создание подмножеств классифицированных и некласифицированных данных\n",
        "knn_classified_data = knn_data[:int(len(knn_data) * 0.9)]\n",
        "knn_classified_data.cache()\n",
        "knn_unclassified_data = knn_data[-int(len(knn_data) * 0.1):].drop('attr')\n",
        "knn_unclassified_data.cache()\n",
        ";"
      ],
      "execution_count": null,
      "outputs": []
    },
    {
      "cell_type": "code",
      "metadata": {
        "application/vnd.databricks.v1+cell": {
          "title": "",
          "showTitle": false,
          "inputWidgets": {},
          "nuid": "a4b9dbb1-318b-47e3-942f-2502ab09a3f7"
        },
        "id": "Svz5s8yaMp1d"
      },
      "source": [
        "# Создание таблицы distanced - таблицы расстояний между классифицированными и неклассифицированными точками\n",
        "\n",
        "cartesian_product = lambda left, right: left.assign(key=1).merge(right.assign(key=1), on='key').drop('key', 1)\n",
        "distanced = cartesian_product(knn_unclassified_data, knn_classified_data).rename(columns={'x_x': 'x', 'y_x': 'y', 'x_y': 'x2', 'y_y': 'y2'})\n",
        "distanced['distance'] = np.sqrt((distanced.x - distanced.x2) ** 2 + (distanced.y - distanced.y2) ** 2)\n",
        "distanced.cache()\n",
        "distanced.head()"
      ],
      "execution_count": null,
      "outputs": []
    },
    {
      "cell_type": "code",
      "metadata": {
        "application/vnd.databricks.v1+cell": {
          "title": "",
          "showTitle": false,
          "inputWidgets": {},
          "nuid": "d57775b3-31d6-4d2a-89e7-f270243e97eb"
        },
        "id": "vniolwF5Mp1d"
      },
      "source": [
        "# Добавление к полученной таблице столбца distance_rn - порядкового номера числа расстояния (по возрастанию) для текущей пары x, y (???)\n",
        "\n",
        "distanced_row_numbered = distanced.copy()\n",
        "distanced_row_numbered['distance_rn'] = distanced.groupby(by=['x', 'y'])['distance'].rank(method=\"first\", ascending=True).astype(int)\n",
        "distanced_row_numbered.cache()\n",
        "distanced_row_numbered.head()"
      ],
      "execution_count": null,
      "outputs": []
    },
    {
      "cell_type": "code",
      "metadata": {
        "application/vnd.databricks.v1+cell": {
          "title": "",
          "showTitle": false,
          "inputWidgets": {},
          "nuid": "c2bb7662-f0fb-4632-aff4-5ce3ff332542"
        },
        "id": "vVnFD8c2Mp1e"
      },
      "source": [
        "# Выбрать все записи из полученной таблицы, distance_rn которых не превышает 5\n",
        "top_n_selected = distanced_row_numbered[distanced_row_numbered[\"distance_rn\"] <= 5]\n",
        "top_n_selected.head()"
      ],
      "execution_count": null,
      "outputs": []
    },
    {
      "cell_type": "code",
      "metadata": {
        "application/vnd.databricks.v1+cell": {
          "title": "",
          "showTitle": false,
          "inputWidgets": {},
          "nuid": "fd4b994c-4f47-44c6-b099-795a77a33a2b"
        },
        "id": "hTa_QOgOMp1e"
      },
      "source": [
        "# Подсчет частоты встречаемости у соседей (поле attr_cnt)\n",
        "top_n_attr_counted = top_n_selected[['x', 'y', 'attr']].copy()\n",
        "top_n_attr_counted['attr_cnt'] = 0\n",
        "top_n_attr_counted = top_n_attr_counted.groupby(by=top_n_attr_counted.columns[: -1].values, as_index=False).count()\n",
        "top_n_attr_counted.cache()\n",
        "top_n_attr_counted.head()"
      ],
      "execution_count": null,
      "outputs": []
    },
    {
      "cell_type": "code",
      "metadata": {
        "application/vnd.databricks.v1+cell": {
          "title": "",
          "showTitle": false,
          "inputWidgets": {},
          "nuid": "7f6adf19-b7de-4f3d-8f80-c616b2f6d23d"
        },
        "id": "C34oDCULMp1e"
      },
      "source": [
        "# Добавление к полученной таблице столбца attr_rn - порядкового номера числа количества упоминаний attr у соседей для этой пары x, y (???)\n",
        "top_n_attr_counted_and_numbered"
      ],
      "execution_count": null,
      "outputs": []
    },
    {
      "cell_type": "code",
      "metadata": {
        "application/vnd.databricks.v1+cell": {
          "title": "",
          "showTitle": false,
          "inputWidgets": {},
          "nuid": "4df5f23a-0e2f-43ad-a79f-4d0de1b11908"
        },
        "id": "BwaiaZALMp1e"
      },
      "source": [
        "# Выбор самого часто встречаемого атрибута у соседей\n",
        "classified_unclassified_data = top_n_attr_counted_and_numbered[top_n_attr_counted_and_numbered[\"attr_rn\"] == 1][[\"x\", \"y\", \"attr\"]]\n",
        "classified_unclassified_data.head()"
      ],
      "execution_count": null,
      "outputs": []
    },
    {
      "cell_type": "code",
      "metadata": {
        "application/vnd.databricks.v1+cell": {
          "title": "",
          "showTitle": false,
          "inputWidgets": {},
          "nuid": "6982dd0c-4cd0-49af-bb74-39c64c6a6e07"
        },
        "id": "AeVafEgHMp1f"
      },
      "source": [
        "# Подчсет точности классификации\n",
        "diff_df = pd.merge(knn_data, classified_unclassified_data, how='outer', indicator='Exist')\n",
        "diff_df = diff_df.loc[diff_df['Exist'] != 'both']\n",
        "accuracy = len(diff_df) * 100 / len(knn_unclassified_data)\n",
        "print(f\"Точность классификации: {accuracy}\")"
      ],
      "execution_count": null,
      "outputs": []
    }
  ]
}